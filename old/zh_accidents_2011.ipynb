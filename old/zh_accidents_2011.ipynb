{
 "cells": [
  {
   "cell_type": "code",
   "execution_count": null,
   "id": "f900df40",
   "metadata": {},
   "outputs": [],
   "source": [
    "#2012 and 2016 feb29!!\n",
    "id3=  3;\n",
    "id28 = 28;\n",
    "id29 = 29; #2012, 2016\n",
    "id30 = 30;\n",
    "id31 = 31;\n",
    "df = accidents_city.head(50)\n",
    "for columns in df:\n",
    "    print(df)"
   ]
  },
  {
   "cell_type": "code",
   "execution_count": null,
   "id": "756563cd",
   "metadata": {},
   "outputs": [],
   "source": [
    "(accidents_city['AccidentMonth'] = 1 | accidents_city['AccidentMonth'] = 3 | accidents_city['AccidentMonth'] = 5 |\n",
    "     accidents_city['AccidentMonth'] = 7 | accidents_city['AccidentMonth'] = 8 |\n",
    "    accidents_city['AccidentMonth'] = 10 | accidents_city['AccidentMonth'] = 12 |) in accidents_city['']"
   ]
  }
 ],
 "metadata": {
  "kernelspec": {
   "display_name": "Python 3 (ipykernel)",
   "language": "python",
   "name": "python3"
  },
  "language_info": {
   "codemirror_mode": {
    "name": "ipython",
    "version": 3
   },
   "file_extension": ".py",
   "mimetype": "text/x-python",
   "name": "python",
   "nbconvert_exporter": "python",
   "pygments_lexer": "ipython3",
   "version": "3.10.9"
  }
 },
 "nbformat": 4,
 "nbformat_minor": 5
}
